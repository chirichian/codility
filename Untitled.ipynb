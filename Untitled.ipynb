{
 "cells": [
  {
   "cell_type": "markdown",
   "id": "83a9950c",
   "metadata": {},
   "source": [
    "# Codility solutions"
   ]
  },
  {
   "cell_type": "markdown",
   "id": "1f602896",
   "metadata": {},
   "source": [
    "Ex1: Find maximal sequence of consecutive zeros in any binary number"
   ]
  },
  {
   "cell_type": "code",
   "execution_count": null,
   "id": "b3e99c30",
   "metadata": {},
   "outputs": [],
   "source": [
    "!pip3 install ipdb"
   ]
  },
  {
   "cell_type": "code",
   "execution_count": null,
   "id": "bba75e1b",
   "metadata": {},
   "outputs": [],
   "source": [
    "import ipdb"
   ]
  },
  {
   "cell_type": "code",
   "execution_count": null,
   "id": "1b09e410",
   "metadata": {},
   "outputs": [],
   "source": [
    "number = 100000100010001\n",
    "number_1 = 10000010001000\n",
    "number_2 = 111111"
   ]
  },
  {
   "cell_type": "code",
   "execution_count": null,
   "id": "aa248658",
   "metadata": {},
   "outputs": [],
   "source": [
    "def find_n_zeros(number):\n",
    "    count = 0\n",
    "    max_n = 0\n",
    "    number = str(number)\n",
    "    if sum([int(s) for s in str(number)])==len(number):\n",
    "        return print('no Gap')\n",
    "    \n",
    "    if number[-1:]=='0':\n",
    "        return print('no Gap')\n",
    "    for i in range(len(number)):\n",
    "        if number[i]=='0':\n",
    "            count+=1\n",
    "\n",
    "        else:\n",
    "            max_n=max(max_n,count)\n",
    "            count=0\n",
    "    \n",
    "    return max_n"
   ]
  },
  {
   "cell_type": "markdown",
   "id": "42e338cb",
   "metadata": {},
   "source": [
    "Ex2: Cycling rotation"
   ]
  },
  {
   "cell_type": "code",
   "execution_count": null,
   "id": "c910fa47",
   "metadata": {},
   "outputs": [],
   "source": [
    "def cycling(A, K):\n",
    "    N = len(A)\n",
    "    result = [None]*N\n",
    "    for i in range(N):\n",
    "        result[(i+K)%N] = A[i]\n",
    "    return result\n",
    "        \n",
    "        "
   ]
  },
  {
   "cell_type": "code",
   "execution_count": null,
   "id": "f4dec89e",
   "metadata": {},
   "outputs": [],
   "source": [
    "cycling([1,2,3,4,5,6], 4)"
   ]
  },
  {
   "cell_type": "markdown",
   "id": "66c346b6",
   "metadata": {},
   "source": [
    "Ex3: Odd occurrences In array"
   ]
  },
  {
   "cell_type": "code",
   "execution_count": null,
   "id": "baa4bfa8",
   "metadata": {},
   "outputs": [],
   "source": [
    "def find_odd(A):\n",
    "    A.sort()\n",
    "    A.append(-1)\n",
    "\n",
    "    for i in range(0,len(A),2):\n",
    "        if A[i]!=A[i+1]:\n",
    "            return print(A[i])\n",
    "\n",
    "             \n",
    "        "
   ]
  },
  {
   "cell_type": "code",
   "execution_count": null,
   "id": "91b2a48e",
   "metadata": {},
   "outputs": [],
   "source": [
    "find_odd([3,3,5,5,6,6,7])"
   ]
  },
  {
   "cell_type": "markdown",
   "id": "5b4f8a2f",
   "metadata": {},
   "source": [
    "Ex4: frog jump\n",
    "\n"
   ]
  },
  {
   "cell_type": "code",
   "execution_count": null,
   "id": "8e602f8b",
   "metadata": {},
   "outputs": [],
   "source": [
    "def frog_jump(X,Y,D):\n",
    "    jump = (Y-X)//D\n",
    "    \n",
    "    if X+jump*D >= Y:\n",
    "        return jump\n",
    "    else:\n",
    "        return jump+1"
   ]
  },
  {
   "cell_type": "code",
   "execution_count": null,
   "id": "11a2d8d0",
   "metadata": {},
   "outputs": [],
   "source": []
  },
  {
   "cell_type": "markdown",
   "id": "d6b16961",
   "metadata": {},
   "source": [
    "Ex.5 Find missing value in Array"
   ]
  },
  {
   "cell_type": "code",
   "execution_count": null,
   "id": "6013c70d",
   "metadata": {},
   "outputs": [],
   "source": [
    "def find_value(A):\n",
    "    B = list(range(1,len(A)+1))\n",
    "    val = set(B)-set(A)\n",
    "    if val:\n",
    "        return val.pop()\n",
    "    else:\n",
    "        return len(A)+1"
   ]
  },
  {
   "cell_type": "code",
   "execution_count": null,
   "id": "9ef7f53e",
   "metadata": {},
   "outputs": [],
   "source": [
    "A = [1,2,3,4,5,6,8,9,10]"
   ]
  },
  {
   "cell_type": "code",
   "execution_count": null,
   "id": "9ef348d3",
   "metadata": {},
   "outputs": [],
   "source": [
    "test = [1,2,3,4,5]"
   ]
  },
  {
   "cell_type": "code",
   "execution_count": null,
   "id": "569185f0",
   "metadata": {},
   "outputs": [],
   "source": [
    "find_value(test)"
   ]
  },
  {
   "cell_type": "code",
   "execution_count": null,
   "id": "3d8ba555",
   "metadata": {},
   "outputs": [],
   "source": [
    "find_value(A)"
   ]
  },
  {
   "cell_type": "markdown",
   "id": "1d9e46d4",
   "metadata": {},
   "source": [
    "Ex. Get the min difference btw the sum of two part in an array"
   ]
  },
  {
   "cell_type": "code",
   "execution_count": null,
   "id": "578f2233",
   "metadata": {},
   "outputs": [],
   "source": [
    "def get_min(A):\n",
    "    I = 0\n",
    "    D = sum(A)\n",
    "    min_= sum(A)*2\n",
    "    for n in range(len(A)):\n",
    "        I += A[n]\n",
    "        D -=A[n]\n",
    "        res = abs(D-I)\n",
    "        if min_> res:\n",
    "            min_ = res\n",
    "            \n",
    "    return min_"
   ]
  },
  {
   "cell_type": "code",
   "execution_count": null,
   "id": "f7d02b1a",
   "metadata": {},
   "outputs": [],
   "source": [
    "A = [3,1,2,4,3]\n",
    "get_min(A)"
   ]
  },
  {
   "cell_type": "markdown",
   "id": "fc6d09c3",
   "metadata": {},
   "source": [
    "Ex. 4.1 Frog river one, help from to get the other side of the river jumping in leaves falling "
   ]
  },
  {
   "cell_type": "code",
   "execution_count": null,
   "id": "3f98ca0d",
   "metadata": {},
   "outputs": [],
   "source": [
    "def get_time(A,X):\n",
    "    B = [None]*X\n",
    "    for i in range(len(A)):\n",
    "        if A[i]<=X and B[A[i]-1]==None: \n",
    "            B[A[i]-1]=i\n",
    "    if None in B:\n",
    "        return -1\n",
    "    else:\n",
    "        return max(B)\n",
    "        "
   ]
  },
  {
   "cell_type": "code",
   "execution_count": null,
   "id": "bfa8983e",
   "metadata": {},
   "outputs": [],
   "source": [
    "A = [2,1,1,7,3,4,5,60,78]"
   ]
  },
  {
   "cell_type": "code",
   "execution_count": null,
   "id": "70e3635b",
   "metadata": {},
   "outputs": [],
   "source": [
    "get_time(A,7)"
   ]
  },
  {
   "cell_type": "code",
   "execution_count": null,
   "id": "09122ffb",
   "metadata": {},
   "outputs": [],
   "source": [
    "def get_time_2(A,X):\n",
    "    B = [0]*X\n",
    "    s=0\n",
    "    for i in range(0,len(A)):\n",
    "        if (A[i]<=X and B[A[i]-1]==0):\n",
    "            s+=1\n",
    "            B[A[i]-1]=1\n",
    "        if (s==X):\n",
    "            return i\n",
    "    return -1"
   ]
  },
  {
   "cell_type": "code",
   "execution_count": null,
   "id": "ff496e22",
   "metadata": {},
   "outputs": [],
   "source": [
    "get_time_2(A,7)"
   ]
  },
  {
   "cell_type": "code",
   "execution_count": null,
   "id": "5c5d0294",
   "metadata": {},
   "outputs": [],
   "source": [
    "A=[1,2,3,4,5]"
   ]
  },
  {
   "cell_type": "code",
   "execution_count": null,
   "id": "e8e39544",
   "metadata": {},
   "outputs": [],
   "source": [
    "list(range(1, len(A)+1))"
   ]
  },
  {
   "cell_type": "markdown",
   "id": "36b89a39",
   "metadata": {},
   "source": [
    "EX. 4.\n",
    "MaxCounters\n",
    "START\n",
    "Calculate the values of counters after applying all alternating operations: increase counter by 1; set value of all counters to current maximum."
   ]
  },
  {
   "cell_type": "code",
   "execution_count": null,
   "id": "752d9195",
   "metadata": {},
   "outputs": [],
   "source": [
    "def get_count(N,A):\n",
    "    B = [0]*N\n",
    "    m = 0\n",
    "    \n",
    "    for i in range(len(A)):\n",
    "        if 1<=A[i] and A[i]<=N:\n",
    "            #pdb.set_trace()\n",
    "            B[A[i]-1] = B[A[i]-1]+1\n",
    "            m = max(m, B[A[i]-1])\n",
    "        else:\n",
    "            B=[m]*N\n",
    "    return B"
   ]
  },
  {
   "cell_type": "code",
   "execution_count": null,
   "id": "0c2f5690",
   "metadata": {},
   "outputs": [],
   "source": [
    "A = [3,4,4,6,1,4,4]\n",
    "N = 5"
   ]
  },
  {
   "cell_type": "code",
   "execution_count": null,
   "id": "006c32ba",
   "metadata": {},
   "outputs": [],
   "source": [
    "get_count(N,A)"
   ]
  },
  {
   "cell_type": "code",
   "execution_count": null,
   "id": "f9662923",
   "metadata": {},
   "outputs": [],
   "source": [
    "def get_count(N,A):\n",
    "    B = [0]*N\n",
    "    m = 0\n",
    "    b = 0\n",
    "    for i in range(len(A)):\n",
    "        if 1<=A[i] and A[i]<=N:\n",
    "            #pdb.set_trace()\n",
    "            B[A[i]-1] = max(b,B[A[i]-1])+1\n",
    "            m = max(m, B[A[i]-1])\n",
    "        else:\n",
    "            b=m\n",
    "    \n",
    "    B=[p if p>=b else b for p in B]\n",
    "    \n",
    "    return B"
   ]
  },
  {
   "cell_type": "code",
   "execution_count": null,
   "id": "cfd174bb",
   "metadata": {},
   "outputs": [],
   "source": [
    "get_count(N,A)"
   ]
  },
  {
   "cell_type": "code",
   "execution_count": null,
   "id": "af91f3ac",
   "metadata": {},
   "outputs": [],
   "source": [
    "m=2"
   ]
  },
  {
   "cell_type": "code",
   "execution_count": null,
   "id": "f05adb3d",
   "metadata": {},
   "outputs": [],
   "source": [
    "[p if p>=m else m for p in A]"
   ]
  },
  {
   "cell_type": "markdown",
   "id": "a532eda1",
   "metadata": {},
   "source": [
    "Ex 4.4 Missing Integer"
   ]
  },
  {
   "cell_type": "code",
   "execution_count": null,
   "id": "c17e0c96",
   "metadata": {},
   "outputs": [],
   "source": [
    "def solution(A):\n",
    "    "
   ]
  },
  {
   "cell_type": "code",
   "execution_count": null,
   "id": "5a483595",
   "metadata": {},
   "outputs": [],
   "source": [
    "A = [1,3,6,4,1,2]\n",
    "B = [1,2,3]\n",
    "C = [-1,-3]"
   ]
  },
  {
   "cell_type": "code",
   "execution_count": null,
   "id": "bdffe96f",
   "metadata": {},
   "outputs": [],
   "source": [
    "Check = list(range(0,len(A)))"
   ]
  },
  {
   "cell_type": "code",
   "execution_count": null,
   "id": "ce7ad532",
   "metadata": {},
   "outputs": [],
   "source": [
    "Check"
   ]
  },
  {
   "cell_type": "code",
   "execution_count": null,
   "id": "a920abcf",
   "metadata": {},
   "outputs": [],
   "source": [
    "A.sort()"
   ]
  },
  {
   "cell_type": "code",
   "execution_count": null,
   "id": "333bc7e4",
   "metadata": {},
   "outputs": [],
   "source": [
    "A"
   ]
  },
  {
   "cell_type": "code",
   "execution_count": null,
   "id": "a59b7b3e",
   "metadata": {},
   "outputs": [],
   "source": [
    "stringname = \"HelloWorld\"\n",
    "print(stringname[::])"
   ]
  },
  {
   "cell_type": "code",
   "execution_count": null,
   "id": "7ede9de3",
   "metadata": {},
   "outputs": [],
   "source": [
    "def func_compute(n):\n",
    "      return lambda x : x * n\n",
    "\n",
    "result = func_compute(2)\n",
    "print(\"The result is =\", result(15))"
   ]
  },
  {
   "cell_type": "code",
   "execution_count": null,
   "id": "f37ada55",
   "metadata": {},
   "outputs": [],
   "source": [
    "result(2)"
   ]
  },
  {
   "cell_type": "code",
   "execution_count": null,
   "id": "019dcfed",
   "metadata": {},
   "outputs": [],
   "source": [
    "result"
   ]
  },
  {
   "cell_type": "code",
   "execution_count": null,
   "id": "34387de3",
   "metadata": {},
   "outputs": [],
   "source": [
    "def transmit_to_space(message):\n",
    "    \"This is the enclosing function\"\n",
    "    def data_transmitter():\n",
    "        \"The nested function\"\n",
    "        print(message)\n",
    "\n",
    "    data_transmitter()\n",
    "\n"
   ]
  },
  {
   "cell_type": "code",
   "execution_count": null,
   "id": "672c261b",
   "metadata": {},
   "outputs": [],
   "source": [
    "print(transmit_to_space(\"Test message\"))"
   ]
  },
  {
   "cell_type": "code",
   "execution_count": null,
   "id": "75033ff9",
   "metadata": {},
   "outputs": [],
   "source": [
    "df[df[\"age\"]>30].size()"
   ]
  },
  {
   "cell_type": "code",
   "execution_count": null,
   "id": "c67afde4",
   "metadata": {},
   "outputs": [],
   "source": [
    "stringname = 'Hello, World!'\n",
    "reversed_string = ''.join(char for char in reversed(stringname))"
   ]
  },
  {
   "cell_type": "code",
   "execution_count": null,
   "id": "9584635d",
   "metadata": {},
   "outputs": [],
   "source": [
    "reversed_string"
   ]
  },
  {
   "cell_type": "code",
   "execution_count": null,
   "id": "02aca93b",
   "metadata": {},
   "outputs": [],
   "source": [
    "''.join(reversed(stringname))"
   ]
  },
  {
   "cell_type": "code",
   "execution_count": null,
   "id": "820cc5c3",
   "metadata": {},
   "outputs": [],
   "source": [
    "stringname[::-1]"
   ]
  },
  {
   "cell_type": "code",
   "execution_count": null,
   "id": "13e53b89",
   "metadata": {},
   "outputs": [],
   "source": [
    "def func_compute(n):\n",
    "      return lambda x : x * n\n",
    "\n",
    "result = func_compute(2)\n",
    "print(\"The result is =\", result(15))\n"
   ]
  },
  {
   "cell_type": "markdown",
   "id": "4940c8ce",
   "metadata": {},
   "source": [
    "Ex 4.4 Missing Integer"
   ]
  },
  {
   "cell_type": "code",
   "execution_count": 52,
   "id": "a9c2d185",
   "metadata": {},
   "outputs": [],
   "source": [
    "def solution(A):\n",
    "    A_pos = list(filter(lambda x: x>0,A))\n",
    "    #A_pos = [i for i in A if i>0]\n",
    "    if not A_pos:\n",
    "        return 1\n",
    "    max_ = max(A_pos)\n",
    "    B = set(range(1,max_))\n",
    "    result = set(B)-set(A_pos)\n",
    "\n",
    "    if result:\n",
    "        return result.pop()\n",
    "    else:\n",
    "        return max_+1"
   ]
  },
  {
   "cell_type": "code",
   "execution_count": 72,
   "id": "a2e96ffd",
   "metadata": {},
   "outputs": [],
   "source": [
    "A = [-1,-2,-5]\n",
    "B = [1,2,3]\n",
    "C = [-1,-3]\n",
    "D = [-2,-34,-5,-7, 2,3,4,5,7,1]\n",
    "E = [2]"
   ]
  },
  {
   "cell_type": "code",
   "execution_count": 56,
   "id": "54bc42e2",
   "metadata": {},
   "outputs": [
    {
     "data": {
      "text/plain": [
       "1"
      ]
     },
     "execution_count": 56,
     "metadata": {},
     "output_type": "execute_result"
    }
   ],
   "source": [
    "solution([2])"
   ]
  },
  {
   "cell_type": "code",
   "execution_count": null,
   "id": "b72ac3d7",
   "metadata": {},
   "outputs": [],
   "source": [
    "We have 3 scenarios\n",
    "* negatives\n",
    "* positives\n",
    "* complete sentence"
   ]
  },
  {
   "cell_type": "code",
   "execution_count": 67,
   "id": "298d77de",
   "metadata": {},
   "outputs": [],
   "source": [
    "def solution_b(A):\n",
    "    A.sort()\n",
    "    #Looking if values are less than 1\n",
    "    if A[len(A)-1]<=0:\n",
    "        return 1\n",
    "    #Looking if there are a 1 in array as a min value\n",
    "    flag = list(filter(lambda x: x==1,A))\n",
    "    if not flag:\n",
    "        return 1\n",
    "    # iterate over all arrary to find the missing value\n",
    "    for i in range(0, len(A)-1):\n",
    "        if A[i]>0 and (A[i+1]-A[i])>1:\n",
    "            return A[i]+1\n",
    "    return A[len(A)-1]+1\n",
    "        "
   ]
  },
  {
   "cell_type": "code",
   "execution_count": 66,
   "id": "1097a065",
   "metadata": {},
   "outputs": [
    {
     "name": "stdout",
     "output_type": "stream",
     "text": [
      "no\n"
     ]
    }
   ],
   "source": [
    "if flag:\n",
    "    print('si')\n",
    "else:\n",
    "    print('no')"
   ]
  },
  {
   "cell_type": "code",
   "execution_count": 76,
   "id": "8834d794",
   "metadata": {},
   "outputs": [
    {
     "ename": "TypeError",
     "evalue": "unsupported operand type(s) for /: 'list' and 'list'",
     "output_type": "error",
     "traceback": [
      "\u001b[0;31m---------------------------------------------------------------------------\u001b[0m",
      "\u001b[0;31mTypeError\u001b[0m                                 Traceback (most recent call last)",
      "Cell \u001b[0;32mIn [76], line 1\u001b[0m\n\u001b[0;32m----> 1\u001b[0m A\u001b[38;5;241m/\u001b[39mA\n",
      "\u001b[0;31mTypeError\u001b[0m: unsupported operand type(s) for /: 'list' and 'list'"
     ]
    }
   ],
   "source": [
    "A/A"
   ]
  },
  {
   "cell_type": "code",
   "execution_count": null,
   "id": "acb28675",
   "metadata": {},
   "outputs": [],
   "source": []
  }
 ],
 "metadata": {
  "kernelspec": {
   "display_name": "Python 3 (ipykernel)",
   "language": "python",
   "name": "python3"
  },
  "language_info": {
   "codemirror_mode": {
    "name": "ipython",
    "version": 3
   },
   "file_extension": ".py",
   "mimetype": "text/x-python",
   "name": "python",
   "nbconvert_exporter": "python",
   "pygments_lexer": "ipython3",
   "version": "3.10.6"
  }
 },
 "nbformat": 4,
 "nbformat_minor": 5
}
